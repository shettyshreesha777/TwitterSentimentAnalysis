{
 "cells": [
  {
   "cell_type": "code",
   "execution_count": null,
   "id": "0d4e6e30",
   "metadata": {},
   "outputs": [],
   "source": [
    "API_KEY = rgGB64oTvU6WMCFNX7Pyxue5r\n",
    "API_KEY_SECRET = yGhVDdCWIVhps9IhAofymshhIbQuC9gmwAR86mQXk7dWiWl42X\n",
    "TWITTER_ACCESS_TOKEN = 1520724296070758400-M1OCv9vcaELtojfbHZDDJRhLmODtQG\n",
    "TWITTER_ACCESS_TOKEN_SECRET = RjRAZf7YdvNOypq7yG0673l1S2N5IWIRks2pmgKgqLMiv\n"
   ]
  }
 ],
 "metadata": {
  "kernelspec": {
   "display_name": "Python 3 (ipykernel)",
   "language": "python",
   "name": "python3"
  },
  "language_info": {
   "codemirror_mode": {
    "name": "ipython",
    "version": 3
   },
   "file_extension": ".py",
   "mimetype": "text/x-python",
   "name": "python",
   "nbconvert_exporter": "python",
   "pygments_lexer": "ipython3",
   "version": "3.9.7"
  }
 },
 "nbformat": 4,
 "nbformat_minor": 5
}
